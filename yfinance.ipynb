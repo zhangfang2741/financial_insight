{
  "nbformat": 4,
  "nbformat_minor": 0,
  "metadata": {
    "colab": {
      "provenance": [],
      "toc_visible": true,
      "authorship_tag": "ABX9TyPcU1Z3HoH6QGaWbJRIB75+",
      "include_colab_link": true
    },
    "kernelspec": {
      "name": "python3",
      "display_name": "Python 3"
    },
    "language_info": {
      "name": "python"
    }
  },
  "cells": [
    {
      "cell_type": "markdown",
      "metadata": {
        "id": "view-in-github",
        "colab_type": "text"
      },
      "source": [
        "<a href=\"https://colab.research.google.com/github/zhangfang2741/financial_insight/blob/main/yfinance.ipynb\" target=\"_parent\"><img src=\"https://colab.research.google.com/assets/colab-badge.svg\" alt=\"Open In Colab\"/></a>"
      ]
    },
    {
      "cell_type": "code",
      "execution_count": 4,
      "metadata": {
        "colab": {
          "base_uri": "https://localhost:8080/"
        },
        "id": "tKcK-b7ahsDo",
        "outputId": "34d49e31-07fb-47b2-abeb-60f605b0c03e"
      },
      "outputs": [
        {
          "output_type": "execute_result",
          "data": {
            "text/plain": [
              "0       AAPL\n",
              "1       MSFT\n",
              "2       AMZN\n",
              "3       NVDA\n",
              "4      GOOGL\n",
              "       ...  \n",
              "499      LNC\n",
              "500      FOX\n",
              "501      NWL\n",
              "502      NWS\n",
              "503     FTRE\n",
              "Name: Symbol, Length: 504, dtype: object"
            ]
          },
          "metadata": {},
          "execution_count": 4
        }
      ],
      "source": [
        "import requests\n",
        "import pandas as pd\n",
        "# 貼上連結\n",
        "url = 'https://www.slickcharts.com/sp500'\n",
        "headers = {\"User-Agent\" : 'Mozilla/5.0 (Windows NT 10.0; Win64; x64) AppleWebKit/537.36 (KHTML, like Gecko) Chrome/83.0.4103.116 Safari/537.36'}\n",
        "request = requests.get(url, headers = headers)\n",
        "data = pd.read_html(request.text)[0]\n",
        "# 欄位『Symbol』就是股票代碼\n",
        "stk_list = data.Symbol\n",
        "# 用 replace 將符號進行替換\n",
        "stk_list = data.Symbol.apply(lambda x: x.replace('.', '-'))\n",
        "stk_list"
      ]
    },
    {
      "cell_type": "markdown",
      "source": [
        "# 新段落"
      ],
      "metadata": {
        "id": "8_Rc-mZFjT5M"
      }
    }
  ]
}